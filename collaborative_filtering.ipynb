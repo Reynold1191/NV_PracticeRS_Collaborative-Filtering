{
 "cells": [
  {
   "cell_type": "code",
   "execution_count": 1,
   "metadata": {},
   "outputs": [],
   "source": [
    "import pandas as pd\n",
    "import numpy as np\n",
    "from tqdm import tqdm\n",
    "from scipy.special import expit  # sigmoid\n",
    "from sklearn.preprocessing import StandardScaler\n",
    "import seaborn as sns\n",
    "import matplotlib.pyplot as plt"
   ]
  },
  {
   "cell_type": "markdown",
   "metadata": {},
   "source": [
    "# **Main flow explaination**\n",
    "<p align=\"center\">\n",
    "  <img src=\"CF_flow.png\" alt=\"title\" width=\"500\">\n",
    "</p>"
   ]
  },
  {
   "cell_type": "markdown",
   "metadata": {},
   "source": [
    "### **Step 1: Retrieving the Dataset**  \n",
    "- The dataset **MovieLens 1M** is collected directly from an online source.  \n",
    "\n",
    "### **Step 2: Exploring and Preprocessing the Dataset**  \n",
    "- The dataset undergoes **preprocessing** and **exploratory analysis** to ensure it is suitable for modeling.  \n",
    "- After preprocessing, the data is **ready for model training**.  \n",
    "- Additionally, several **insights** are extracted to facilitate **manual evaluation** of the final model's performance.  \n",
    "\n",
    "### **Step 3: Building the Model Architecture**  \n",
    "- The **Collaborative Filtering (CF)** model is developed from scratch. Notably, **Stochastic Gradient Descent (SGD)** and its related computations are **manually implemented** (without using pre-built optimization libraries).  \n",
    "- The construction process involves the following key steps:  \n",
    "  - **Randomly initialize latent factor vectors** for users.  \n",
    "  - **Randomly initialize latent factor vectors** for items (movies).  \n",
    "  - Define and use **Squared Error (SE) Loss** for optimization.  \n",
    "  - Apply **Stochastic Gradient Descent (SGD)** to optimize the model parameters.  \n",
    "\n",
    "### **Step 4: Ranking and Predicting Recommendations**  \n",
    "- This phase is divided into two main parts:  \n",
    "  1. **Top-N Recommendation**:  \n",
    "      - Use the **trained model** to recommend the top N movies suitable for a given user \\( J \\).  \n",
    "  2. **(Optional) Genre-Based Tie-Breaking**:  \n",
    "      - Identify the **top 5 genres** based on the two highest-rated movies by user \\( J \\). For example, if user \\( J \\) rates two movies with 4 stars, and genres like *Drama* and *Children's* appear 12 and 11 times respectively, their **relative weights** will be calculated as:  \n",
    "        \\[\n",
    "        \\text{Weight of Drama} = \\frac{12}{23} \\approx 0.52\n",
    "        \\]  \n",
    "      - In cases where multiple movies share the same predicted rating (rounded to one decimal place, e.g., 0.2f), these **genre weights** are used as a **tie-breaking criterion** to prioritize recommendations.  \n",
    "\n",
    "### **Step 5: Testing and Evaluating the Model**  \n",
    "- **Training cost (loss)** is analyzed to assess the model's learning quality and convergence.  \n",
    "- Additionally, the **insights gathered in Step 2** are leveraged for **qualitative, manual evaluation** of the recommendation results.  \n"
   ]
  },
  {
   "cell_type": "markdown",
   "metadata": {},
   "source": [
    "# **Step 1: Retrieving the Dataset**  "
   ]
  },
  {
   "cell_type": "code",
   "execution_count": 2,
   "metadata": {},
   "outputs": [],
   "source": [
    "# ====================== Explore Data ======================\n",
    "# Load datasets\n",
    "r_cols = ['user_id', 'item_id', 'rating', 'timestamp']\n",
    "ratings = pd.read_csv('ml-1m/ratings.dat', sep='::', names=r_cols, engine='python')\n",
    "ratings.drop('timestamp', axis=1, inplace=True)\n",
    "\n",
    "u_cols = ['user_id', 'gender', 'age', 'occupation', 'zip']\n",
    "users = pd.read_csv('ml-1m/users.dat', sep='::', names=u_cols, engine='python')\n",
    "\n",
    "m_cols = ['item_id', 'title', 'genres']\n",
    "movies = pd.read_csv('ml-1m/movies.dat', sep='::', names=m_cols, engine='python', encoding='latin-1')"
   ]
  },
  {
   "cell_type": "markdown",
   "metadata": {},
   "source": [
    "## Ratings Dataset"
   ]
  },
  {
   "cell_type": "code",
   "execution_count": 3,
   "metadata": {},
   "outputs": [
    {
     "data": {
      "text/html": [
       "<div>\n",
       "<style scoped>\n",
       "    .dataframe tbody tr th:only-of-type {\n",
       "        vertical-align: middle;\n",
       "    }\n",
       "\n",
       "    .dataframe tbody tr th {\n",
       "        vertical-align: top;\n",
       "    }\n",
       "\n",
       "    .dataframe thead th {\n",
       "        text-align: right;\n",
       "    }\n",
       "</style>\n",
       "<table border=\"1\" class=\"dataframe\">\n",
       "  <thead>\n",
       "    <tr style=\"text-align: right;\">\n",
       "      <th></th>\n",
       "      <th>user_id</th>\n",
       "      <th>item_id</th>\n",
       "      <th>rating</th>\n",
       "    </tr>\n",
       "  </thead>\n",
       "  <tbody>\n",
       "    <tr>\n",
       "      <th>0</th>\n",
       "      <td>1</td>\n",
       "      <td>1193</td>\n",
       "      <td>5</td>\n",
       "    </tr>\n",
       "    <tr>\n",
       "      <th>1</th>\n",
       "      <td>1</td>\n",
       "      <td>661</td>\n",
       "      <td>3</td>\n",
       "    </tr>\n",
       "    <tr>\n",
       "      <th>2</th>\n",
       "      <td>1</td>\n",
       "      <td>914</td>\n",
       "      <td>3</td>\n",
       "    </tr>\n",
       "  </tbody>\n",
       "</table>\n",
       "</div>"
      ],
      "text/plain": [
       "   user_id  item_id  rating\n",
       "0        1     1193       5\n",
       "1        1      661       3\n",
       "2        1      914       3"
      ]
     },
     "execution_count": 3,
     "metadata": {},
     "output_type": "execute_result"
    }
   ],
   "source": [
    "ratings.head(3)"
   ]
  },
  {
   "cell_type": "markdown",
   "metadata": {},
   "source": [
    "- UserIDs range between 1 and 6040 \n",
    "- MovieIDs range between 1 and 3952\n",
    "- Ratings are made on a 5-star scale (whole-star ratings only)\n",
    "- Timestamp is represented in seconds since the epoch as returned by time(2)\n",
    "- Each user has at least 20 ratings"
   ]
  },
  {
   "cell_type": "markdown",
   "metadata": {},
   "source": [
    "## Movies Dataset"
   ]
  },
  {
   "cell_type": "code",
   "execution_count": 4,
   "metadata": {},
   "outputs": [
    {
     "data": {
      "text/html": [
       "<div>\n",
       "<style scoped>\n",
       "    .dataframe tbody tr th:only-of-type {\n",
       "        vertical-align: middle;\n",
       "    }\n",
       "\n",
       "    .dataframe tbody tr th {\n",
       "        vertical-align: top;\n",
       "    }\n",
       "\n",
       "    .dataframe thead th {\n",
       "        text-align: right;\n",
       "    }\n",
       "</style>\n",
       "<table border=\"1\" class=\"dataframe\">\n",
       "  <thead>\n",
       "    <tr style=\"text-align: right;\">\n",
       "      <th></th>\n",
       "      <th>item_id</th>\n",
       "      <th>title</th>\n",
       "      <th>genres</th>\n",
       "    </tr>\n",
       "  </thead>\n",
       "  <tbody>\n",
       "    <tr>\n",
       "      <th>0</th>\n",
       "      <td>1</td>\n",
       "      <td>Toy Story (1995)</td>\n",
       "      <td>Animation|Children's|Comedy</td>\n",
       "    </tr>\n",
       "    <tr>\n",
       "      <th>1</th>\n",
       "      <td>2</td>\n",
       "      <td>Jumanji (1995)</td>\n",
       "      <td>Adventure|Children's|Fantasy</td>\n",
       "    </tr>\n",
       "    <tr>\n",
       "      <th>2</th>\n",
       "      <td>3</td>\n",
       "      <td>Grumpier Old Men (1995)</td>\n",
       "      <td>Comedy|Romance</td>\n",
       "    </tr>\n",
       "  </tbody>\n",
       "</table>\n",
       "</div>"
      ],
      "text/plain": [
       "   item_id                    title                        genres\n",
       "0        1         Toy Story (1995)   Animation|Children's|Comedy\n",
       "1        2           Jumanji (1995)  Adventure|Children's|Fantasy\n",
       "2        3  Grumpier Old Men (1995)                Comedy|Romance"
      ]
     },
     "execution_count": 4,
     "metadata": {},
     "output_type": "execute_result"
    }
   ],
   "source": [
    "movies.head(3)"
   ]
  },
  {
   "cell_type": "markdown",
   "metadata": {},
   "source": [
    "- Titles are identical to titles provided by the IMDB (including\n",
    "year of release)\n",
    "- Genres are pipe-separated and are selected from the following genres:\n",
    "\n",
    "\t* Action\n",
    "\t* Adventure\n",
    "\t* Animation\n",
    "\t* Children's\n",
    "\t* Comedy\n",
    "\t* Crime\n",
    "\t* Documentary\n",
    "\t* Drama\n",
    "\t* Fantasy\n",
    "\t* Film-Noir\n",
    "\t* Horror\n",
    "\t* Musical\n",
    "\t* Mystery\n",
    "\t* Romance\n",
    "\t* Sci-Fi\n",
    "\t* Thriller\n",
    "\t* War\n",
    "\t* Western\n",
    "\n",
    "- Some MovieIDs do not correspond to a movie due to accidental duplicate\n",
    "entries and/or test entries\n",
    "- Movies are mostly entered by hand, so errors and inconsistencies may exist"
   ]
  },
  {
   "cell_type": "markdown",
   "metadata": {},
   "source": [
    "## Users dataset"
   ]
  },
  {
   "cell_type": "code",
   "execution_count": 5,
   "metadata": {},
   "outputs": [
    {
     "data": {
      "text/html": [
       "<div>\n",
       "<style scoped>\n",
       "    .dataframe tbody tr th:only-of-type {\n",
       "        vertical-align: middle;\n",
       "    }\n",
       "\n",
       "    .dataframe tbody tr th {\n",
       "        vertical-align: top;\n",
       "    }\n",
       "\n",
       "    .dataframe thead th {\n",
       "        text-align: right;\n",
       "    }\n",
       "</style>\n",
       "<table border=\"1\" class=\"dataframe\">\n",
       "  <thead>\n",
       "    <tr style=\"text-align: right;\">\n",
       "      <th></th>\n",
       "      <th>user_id</th>\n",
       "      <th>gender</th>\n",
       "      <th>age</th>\n",
       "      <th>occupation</th>\n",
       "      <th>zip</th>\n",
       "    </tr>\n",
       "  </thead>\n",
       "  <tbody>\n",
       "    <tr>\n",
       "      <th>0</th>\n",
       "      <td>1</td>\n",
       "      <td>F</td>\n",
       "      <td>1</td>\n",
       "      <td>10</td>\n",
       "      <td>48067</td>\n",
       "    </tr>\n",
       "    <tr>\n",
       "      <th>1</th>\n",
       "      <td>2</td>\n",
       "      <td>M</td>\n",
       "      <td>56</td>\n",
       "      <td>16</td>\n",
       "      <td>70072</td>\n",
       "    </tr>\n",
       "    <tr>\n",
       "      <th>2</th>\n",
       "      <td>3</td>\n",
       "      <td>M</td>\n",
       "      <td>25</td>\n",
       "      <td>15</td>\n",
       "      <td>55117</td>\n",
       "    </tr>\n",
       "  </tbody>\n",
       "</table>\n",
       "</div>"
      ],
      "text/plain": [
       "   user_id gender  age  occupation    zip\n",
       "0        1      F    1          10  48067\n",
       "1        2      M   56          16  70072\n",
       "2        3      M   25          15  55117"
      ]
     },
     "execution_count": 5,
     "metadata": {},
     "output_type": "execute_result"
    }
   ],
   "source": [
    "users.head(3)"
   ]
  },
  {
   "cell_type": "markdown",
   "metadata": {},
   "source": [
    "- Gender is denoted by a \"M\" for male and \"F\" for female\n",
    "- Age is chosen from the following ranges:\n",
    "\n",
    "\t*  1:  \"Under 18\"\n",
    "\t* 18:  \"18-24\"\n",
    "\t* 25:  \"25-34\"\n",
    "\t* 35:  \"35-44\"\n",
    "\t* 45:  \"45-49\"\n",
    "\t* 50:  \"50-55\"\n",
    "\t* 56:  \"56+\"\n",
    "\n",
    "- Occupation is chosen from the following choices:\n",
    "\n",
    "\t*  0:  \"other\" or not specified\n",
    "\t*  1:  \"academic/educator\"\n",
    "\t*  2:  \"artist\"\n",
    "\t*  3:  \"clerical/admin\"\n",
    "\t*  4:  \"college/grad student\"\n",
    "\t*  5:  \"customer service\"\n",
    "\t*  6:  \"doctor/health care\"\n",
    "\t*  7:  \"executive/managerial\"\n",
    "\t*  8:  \"farmer\"\n",
    "\t*  9:  \"homemaker\"\n",
    "\t* 10:  \"K-12 student\"\n",
    "\t* 11:  \"lawyer\"\n",
    "\t* 12:  \"programmer\"\n",
    "\t* 13:  \"retired\"\n",
    "\t* 14:  \"sales/marketing\"\n",
    "\t* 15:  \"scientist\"\n",
    "\t* 16:  \"self-employed\"\n",
    "\t* 17:  \"technician/engineer\"\n",
    "\t* 18:  \"tradesman/craftsman\"\n",
    "\t* 19:  \"unemployed\"\n",
    "\t* 20:  \"writer\""
   ]
  },
  {
   "cell_type": "code",
   "execution_count": 6,
   "metadata": {},
   "outputs": [
    {
     "data": {
      "image/png": "[encoded data removed]",
      "text/plain": [
       "<Figure size 2000x500 with 1 Axes>"
      ]
     },
     "metadata": {},
     "output_type": "display_data"
    },
    {
     "data": {
      "image/png": "[encoded data removed]",
      "text/plain": [
       "<Figure size 2000x500 with 1 Axes>"
      ]
     },
     "metadata": {},
     "output_type": "display_data"
    }
   ],
   "source": [
    "sns.set_theme(style=\"whitegrid\", palette=\"muted\", font_scale=1.2)\n",
    "\n",
    "def annotate_bars(ax):\n",
    "    for p in ax.patches:\n",
    "        height = p.get_height()\n",
    "        ax.annotate(f'{int(height)}',                \n",
    "                    xy=(p.get_x() + p.get_width() / 2, height),  \n",
    "                    xytext=(0, 5),                  \n",
    "                    textcoords='offset points',   \n",
    "                    ha='center', va='bottom',      \n",
    "                    fontsize=12, color='black', weight='bold')  \n",
    "\n",
    "# --- Bar Chart for Age ----\n",
    "plt.figure(figsize=(20, 5))\n",
    "sorted_ages = sorted(users['age'].unique())  # Sắp xếp tăng dần\n",
    "ax1 = sns.countplot(x='age', data=users, order=sorted_ages)\n",
    "plt.title('Distribution of Age', fontsize=16, weight='bold')\n",
    "plt.xlabel('Age', fontsize=14)\n",
    "plt.ylabel('Count', fontsize=14)\n",
    "plt.xticks(rotation=0)\n",
    "annotate_bars(ax1)  \n",
    "plt.show()\n",
    "\n",
    "# --- Bar Chart for Occupation ---\n",
    "plt.figure(figsize=(20, 5))\n",
    "sorted_occupations = sorted(users['occupation'].unique())  \n",
    "ax2 = sns.countplot(x='occupation', data=users, order=sorted_occupations)\n",
    "plt.title('Distribution of Occupation', fontsize=16, weight='bold')\n",
    "plt.xlabel('Occupation', fontsize=14)\n",
    "plt.ylabel('Count', fontsize=14)\n",
    "plt.xticks(rotation=0)\n",
    "annotate_bars(ax2)  \n",
    "plt.show()"
   ]
  },
  {
   "cell_type": "markdown",
   "metadata": {},
   "source": [
    "# **Step 2: Exploring and Preprocessing the Dataset**  "
   ]
  },
  {
   "cell_type": "code",
   "execution_count": 7,
   "metadata": {},
   "outputs": [],
   "source": [
    "# ====================== Preprocess Data ======================\n",
    "# Create mappings for items and users\n",
    "item_id_to_index = {item_id: idx for idx, item_id in enumerate(movies['item_id'].unique())}\n",
    "index_to_item_id = {idx: item_id for item_id, idx in item_id_to_index.items()}\n",
    "user_id_to_index = {user_id: idx for idx, user_id in enumerate(users['user_id'].unique())}\n",
    "index_to_user_id = {idx: user_id for user_id, idx in user_id_to_index.items()}\n",
    "\n",
    "num_users = len(user_id_to_index)\n",
    "num_items = len(item_id_to_index)"
   ]
  },
  {
   "cell_type": "markdown",
   "metadata": {},
   "source": [
    "# **Step 3: Building the Model Architecture**  "
   ]
  },
  {
   "cell_type": "code",
   "execution_count": 1,
   "metadata": {},
   "outputs": [],
   "source": [
    "# ================== Collaborative Filtering (CF) Class =====================\n",
    "\n",
    "class CF:\n",
    "    def __init__(self, num_users, num_items, num_factors=50, lr=0.01, reg=0.01, epochs=20):\n",
    "        \"\"\"\n",
    "        Initializes the Collaborative Filtering model.\n",
    "\n",
    "        Args:\n",
    "            num_users (int): Number of users in the dataset.\n",
    "            num_items (int): Number of items in the dataset.\n",
    "            num_features (int): Number of features for content-based filtering.\n",
    "            num_factors (int, optional): Number of latent factors for collaborative filtering. Default is 20.\n",
    "            lr (float, optional): Learning rate for stochastic gradient descent. Default is 0.01.\n",
    "            reg (float, optional): Regularization parameter. Default is 0.01.\n",
    "            epochs (int, optional): Number of epochs for training. Default is 20.\n",
    "        \"\"\"\n",
    "\n",
    "        self.num_users = num_users\n",
    "        self.num_items = num_items\n",
    "        self.num_factors = num_factors\n",
    "        self.lr = lr\n",
    "        self.reg = reg\n",
    "        self.epochs = epochs\n",
    "        self.scaler = StandardScaler()\n",
    "        # CF latent factors\n",
    "        self.user_factors = np.random.normal(scale=1./num_factors, size=(num_users, num_factors))\n",
    "        self.item_factors = np.random.normal(scale=1./num_factors, size=(num_items, num_factors))\n",
    "        \n",
    "\n",
    "    def train(self, train_data, item_id_to_index, user_id_to_index):\n",
    "        \"\"\"\n",
    "        Trains the Collaborative Filtering model using SGD.\n",
    "\n",
    "        Args:\n",
    "            train_data (DataFrame): Training data containing user-item interactions.\n",
    "            item_id_to_index (dict): Mapping from item IDs to matrix indices.\n",
    "            user_id_to_index (dict): Mapping from user IDs to matrix indices.\n",
    "\n",
    "        Returns:\n",
    "            Vectors after stochastic gradient descent\n",
    "        \"\"\"\n",
    "        train_data[['rating']] = self.scaler.fit_transform(train_data[['rating']])\n",
    "        print(\"One piece of training data:\\n\", train_data['rating'][:5], \"\\n\")\n",
    "        losses = []\n",
    "\n",
    "        for epoch in range(self.epochs):\n",
    "            total_loss = 0\n",
    "            train_data = train_data.sample(frac=1).reset_index(drop=True)  # Shuffle\n",
    "\n",
    "            for row in tqdm(train_data.itertuples(), total=len(train_data), desc=f'Epoch {epoch+1}'):\n",
    "                user_id, item_id, rating = row.user_id, row.item_id, row.rating\n",
    "                user = user_id_to_index.get(user_id, None)\n",
    "                item = item_id_to_index.get(item_id, None)\n",
    "                if user is None or item is None:\n",
    "                    continue # Skip if user or item is unknown\n",
    "\n",
    "                # Collaborative Filtering Prediction\n",
    "                pred_cf = np.dot(self.user_factors[user], self.item_factors[item])\n",
    "\n",
    "                # Final prediction\n",
    "                pred = pred_cf\n",
    "                error = rating - pred\n",
    "                total_loss += error**2 + self.reg * (np.linalg.norm(self.user_factors[user])**2 + np.linalg.norm(self.item_factors[item])**2) # L2 Regularization\n",
    "\n",
    "                # --- SGD Update ---\n",
    "                # CF part\n",
    "                user_grad = -2 * error * self.item_factors[item] + 2 * self.reg * self.user_factors[user]\n",
    "                item_grad = -2 * error * self.user_factors[user] + 2 * self.reg * self.item_factors[item]\n",
    "                self.user_factors[user] -= self.lr * user_grad\n",
    "                self.item_factors[item] -= self.lr * item_grad\n",
    "\n",
    "            print(f\"Epoch {epoch+1}, Loss: {total_loss:.4f}\")\n",
    "            losses.append(total_loss)\n",
    "        plt.figure(figsize=(10, 6))\n",
    "        plt.plot(range(1, len(losses) + 1), losses, marker='o', linestyle='-', color='b')\n",
    "        plt.xlabel('Epoch')\n",
    "        plt.ylabel('Loss')\n",
    "        plt.title('Training Loss per Epoch')\n",
    "        plt.grid(True)\n",
    "        plt.show()\n",
    "\n",
    "    def predict(self, user_id, item_id, item_id_to_index, user_id_to_index):\n",
    "        \"\"\"\n",
    "        Returns the predicted rating for a given user and item.\n",
    "\n",
    "        Args:\n",
    "            user_id (int): ID of the user.\n",
    "            item_id (int): ID of the item.\n",
    "            item_id_to_index (dict): Mapping from item IDs to matrix indices.\n",
    "            user_id_to_index (dict): Mapping from user IDs to matrix indices.\n",
    "\n",
    "        Returns:\n",
    "            float: Predicted rating.\n",
    "        \"\"\"\n",
    "    \n",
    "        user = user_id_to_index.get(user_id, None)\n",
    "        item = item_id_to_index.get(item_id, None)\n",
    "        if user is None or item is None:\n",
    "            return 0  # Default prediction if unknown user/item\n",
    "\n",
    "        pred_cf = np.dot(self.user_factors[user], self.item_factors[item])\n",
    "        pred_cf = self.scaler.inverse_transform([[pred_cf]])[0][0]\n",
    "        pred = min(5, max(1, pred_cf))  # Clip prediction to [1, 5]\n",
    "        return pred\n",
    "\n",
    "    def count_genres_all_ratings(self, ratings_df, movies_df, user_id, top):\n",
    "        \"\"\"\n",
    "        Returns the count of each genre for each rating (1 to 5) of a user.\n",
    "\n",
    "        Args:\n",
    "            ratings_df (DataFrame): Ratings data.\n",
    "            movies_df (DataFrame): Movies data.\n",
    "            user_id (int): ID of the user to analyze.\n",
    "            top (int): Maximum number of genres to return.\n",
    "\n",
    "        Returns:\n",
    "            DataFrame: Table with columns 'rating', 'genre', 'count'.\n",
    "        \"\"\"\n",
    "        df = pd.merge(ratings_df, movies_df, on='item_id')\n",
    "\n",
    "        all_genres = set()\n",
    "        for genre_list in movies['genres'].str.split('|'):\n",
    "            all_genres.update(genre_list)\n",
    "        all_genres = list(all_genres)\n",
    "\n",
    "        user_df = df[df['user_id'] == user_id]\n",
    "\n",
    "        exploded = user_df.assign(genre=user_df['genres'].str.split('|')).explode('genre')\n",
    "\n",
    "        genre_counts = exploded.groupby(['rating', 'genre']).size().reset_index(name='count')\n",
    "\n",
    "        genre_counts = genre_counts.sort_values(by=['rating', 'count'], ascending=[True, False])\n",
    "        if top < len(all_genres):\n",
    "            genre_counts = genre_counts.groupby('rating').head(top)\n",
    "\n",
    "        return genre_counts\n",
    "\n",
    "    def calculate_genre_weights(self, filtered_result):\n",
    "        \"\"\"\n",
    "        Calculate the weight of each genre for each rating.\n",
    "\n",
    "        Args:\n",
    "            filtered_result (DataFrame): DataFrame containing the count of each genre for each rating.\n",
    "\n",
    "        Returns:\n",
    "            DataFrame: DataFrame with columns 'rating', 'genre', 'count', 'weight'.\n",
    "        \"\"\"\n",
    "        # Calculate the total count for each rating\n",
    "        total_counts = filtered_result.groupby('rating')['count'].sum().reset_index(name='total_count')\n",
    "\n",
    "        # Merge the total counts with the filtered result\n",
    "        merged_result = pd.merge(filtered_result, total_counts, on='rating')\n",
    "\n",
    "        # Calculate the weight for each genre\n",
    "        merged_result['weight'] = merged_result['count'] / merged_result['total_count']\n",
    "\n",
    "        return merged_result[['rating', 'genre', 'count', 'weight']]\n",
    "\n",
    "\n",
    "    def recommend(self, user_id, item_id_to_index, user_id_to_index, ratings_df, movies_df, top_n):\n",
    "        \"\"\"\n",
    "        Returns the count of each genre for each rating (1 to 5) of a user.\n",
    "\n",
    "        Args:\n",
    "            user_id (int): ID of the user to analyze.\n",
    "            item_id_to_index (dict): Mapping from item IDs to matrix indices.\n",
    "            user_id_to_index (dict): Mapping from user IDs to matrix indices.\n",
    "            ratings_df (DataFrame): Ratings data.\n",
    "            movies_df (DataFrame): Movies data.\n",
    "            top (int): Maximum number of genres to return.\n",
    "\n",
    "        Returns:\n",
    "            List of tuples: List of (item_id, score, weight) sorted tuples for the top N recommended items.\n",
    "        \"\"\"\n",
    "        \n",
    "        scores = []\n",
    "        for item_id in item_id_to_index.keys():\n",
    "            score = self.predict(user_id, item_id, item_id_to_index, user_id_to_index)\n",
    "            scores.append((item_id, round(score, 2)))\n",
    "        scores.sort(key=lambda x: x[1], reverse=True)\n",
    "        print(\"scores: \", scores[:10])\n",
    "\n",
    "        count_genres = self.count_genres_all_ratings(ratings_df, movies_df, user_id, top_n)\n",
    "        # print(\"countgenre:\", count_genres)\n",
    "        top_ratings = ratings[ratings['user_id'] == 1]['rating'].drop_duplicates().nlargest(2).tolist()\n",
    "        # print(\"toprating: \", top_ratings)\n",
    "\n",
    "        filtered_result = count_genres[count_genres['rating'].isin(top_ratings)]\n",
    "        genre_weights = self.calculate_genre_weights(filtered_result)\n",
    "        # print(\"genre weights: \", genre_weights)\n",
    "\n",
    "        genre_dict = {}\n",
    "        for genre in genre_weights['genre'].unique():\n",
    "            value = 0\n",
    "            for rating in top_ratings:\n",
    "                weight = genre_weights[(genre_weights['genre'] == genre) & (genre_weights['rating'] == rating)]['weight'].values\n",
    "                if len(weight) > 0:\n",
    "                    value += rating * weight[0]\n",
    "            genre_dict[genre] = value\n",
    "\n",
    "        # print(\"dict: \", genre_dict)\n",
    "        final_scores = []\n",
    "        for i in range(len(scores)):\n",
    "            item_id = scores[i][0]\n",
    "            # print(item_id)\n",
    "            genres = movies[movies['item_id'] == item_id]['genres'].values[0].split('|')\n",
    "            score = 0   \n",
    "            for genre in genres:\n",
    "                score += genre_dict.get(genre, 0)\n",
    "            final_scores.append((item_id, score))\n",
    "            \n",
    "        final_scores.sort(key=lambda x: x[1], reverse=True)\n",
    "        # get score from scores and assigned to a new column final_scores --> finalscores = (item_id, score of genre, predict score)\n",
    "        # final_scores = [(item_id, score, pred_score) for (item_id, score), (_, pred_score) in zip(final_scores, scores)]\n",
    "\n",
    "        final_scores_dict = dict(final_scores)\n",
    "        merged = [(id_, score, final_scores_dict[id_]) for id_, score in scores if id_ in final_scores_dict]\n",
    "\n",
    "        merged_sorted = sorted(merged, key=lambda x: (x[1], x[2]), reverse=True)\n",
    "\n",
    "        \n",
    "        return merged_sorted[:top_n]\n",
    "\n",
    "    \n",
    "    def save_model(self, path='recommender_model.pkl'):\n",
    "        import pickle\n",
    "        with open(path, 'wb') as f:\n",
    "            pickle.dump(self, f)\n",
    "        print(f\"Model saved to {path}\")\n",
    "\n",
    "    @staticmethod\n",
    "    def load_model(path='recommender_model.pkl'):\n",
    "        import pickle\n",
    "        with open(path, 'rb') as f:\n",
    "            model = pickle.load(f)\n",
    "        print(f\"Model loaded from {path}\")\n",
    "        return model"
   ]
  },
  {
   "cell_type": "code",
   "execution_count": 9,
   "metadata": {},
   "outputs": [
    {
     "name": "stdout",
     "output_type": "stream",
     "text": [
      "One piece of training data:\n",
      " 0    1.269747\n",
      "1   -0.520601\n",
      "2   -0.520601\n",
      "3    0.374573\n",
      "4    1.269747\n",
      "Name: rating, dtype: float64 \n",
      "\n"
     ]
    },
    {
     "name": "stderr",
     "output_type": "stream",
     "text": [
      "Epoch 1: 100%|██████████| 1000209/1000209 [00:11<00:00, 84574.62it/s]\n"
     ]
    },
    {
     "name": "stdout",
     "output_type": "stream",
     "text": [
      "Epoch 1, Loss: 998388.3041\n"
     ]
    },
    {
     "name": "stderr",
     "output_type": "stream",
     "text": [
      "Epoch 2: 100%|██████████| 1000209/1000209 [00:11<00:00, 84025.83it/s]\n"
     ]
    },
    {
     "name": "stdout",
     "output_type": "stream",
     "text": [
      "Epoch 2, Loss: 825451.0159\n"
     ]
    },
    {
     "name": "stderr",
     "output_type": "stream",
     "text": [
      "Epoch 3: 100%|██████████| 1000209/1000209 [00:11<00:00, 85449.11it/s]\n"
     ]
    },
    {
     "name": "stdout",
     "output_type": "stream",
     "text": [
      "Epoch 3, Loss: 665752.8411\n"
     ]
    },
    {
     "name": "stderr",
     "output_type": "stream",
     "text": [
      "Epoch 4: 100%|██████████| 1000209/1000209 [00:11<00:00, 86574.59it/s]\n"
     ]
    },
    {
     "name": "stdout",
     "output_type": "stream",
     "text": [
      "Epoch 4, Loss: 617236.3115\n"
     ]
    },
    {
     "name": "stderr",
     "output_type": "stream",
     "text": [
      "Epoch 5: 100%|██████████| 1000209/1000209 [00:11<00:00, 85679.46it/s]\n"
     ]
    },
    {
     "name": "stdout",
     "output_type": "stream",
     "text": [
      "Epoch 5, Loss: 575642.1974\n"
     ]
    },
    {
     "name": "stderr",
     "output_type": "stream",
     "text": [
      "Epoch 6: 100%|██████████| 1000209/1000209 [00:11<00:00, 85505.97it/s]\n"
     ]
    },
    {
     "name": "stdout",
     "output_type": "stream",
     "text": [
      "Epoch 6, Loss: 530588.2471\n"
     ]
    },
    {
     "name": "stderr",
     "output_type": "stream",
     "text": [
      "Epoch 7: 100%|██████████| 1000209/1000209 [00:11<00:00, 85375.68it/s]\n"
     ]
    },
    {
     "name": "stdout",
     "output_type": "stream",
     "text": [
      "Epoch 7, Loss: 476133.0725\n"
     ]
    },
    {
     "name": "stderr",
     "output_type": "stream",
     "text": [
      "Epoch 8: 100%|██████████| 1000209/1000209 [00:11<00:00, 85293.59it/s]\n"
     ]
    },
    {
     "name": "stdout",
     "output_type": "stream",
     "text": [
      "Epoch 8, Loss: 410342.9525\n"
     ]
    },
    {
     "name": "stderr",
     "output_type": "stream",
     "text": [
      "Epoch 9: 100%|██████████| 1000209/1000209 [00:11<00:00, 84351.30it/s]\n"
     ]
    },
    {
     "name": "stdout",
     "output_type": "stream",
     "text": [
      "Epoch 9, Loss: 340591.7060\n"
     ]
    },
    {
     "name": "stderr",
     "output_type": "stream",
     "text": [
      "Epoch 10: 100%|██████████| 1000209/1000209 [00:12<00:00, 83308.16it/s]\n"
     ]
    },
    {
     "name": "stdout",
     "output_type": "stream",
     "text": [
      "Epoch 10, Loss: 275784.9687\n"
     ]
    },
    {
     "name": "stderr",
     "output_type": "stream",
     "text": [
      "Epoch 11: 100%|██████████| 1000209/1000209 [00:11<00:00, 83758.51it/s]\n"
     ]
    },
    {
     "name": "stdout",
     "output_type": "stream",
     "text": [
      "Epoch 11, Loss: 220828.9526\n"
     ]
    },
    {
     "name": "stderr",
     "output_type": "stream",
     "text": [
      "Epoch 12: 100%|██████████| 1000209/1000209 [00:11<00:00, 83508.19it/s]\n"
     ]
    },
    {
     "name": "stdout",
     "output_type": "stream",
     "text": [
      "Epoch 12, Loss: 176516.0343\n"
     ]
    },
    {
     "name": "stderr",
     "output_type": "stream",
     "text": [
      "Epoch 13: 100%|██████████| 1000209/1000209 [00:11<00:00, 83824.05it/s]\n"
     ]
    },
    {
     "name": "stdout",
     "output_type": "stream",
     "text": [
      "Epoch 13, Loss: 142013.1189\n"
     ]
    },
    {
     "name": "stderr",
     "output_type": "stream",
     "text": [
      "Epoch 14: 100%|██████████| 1000209/1000209 [00:11<00:00, 84663.20it/s]\n"
     ]
    },
    {
     "name": "stdout",
     "output_type": "stream",
     "text": [
      "Epoch 14, Loss: 115605.4206\n"
     ]
    },
    {
     "name": "stderr",
     "output_type": "stream",
     "text": [
      "Epoch 15: 100%|██████████| 1000209/1000209 [00:11<00:00, 83834.99it/s]\n"
     ]
    },
    {
     "name": "stdout",
     "output_type": "stream",
     "text": [
      "Epoch 15, Loss: 95589.0048\n"
     ]
    },
    {
     "name": "stderr",
     "output_type": "stream",
     "text": [
      "Epoch 16: 100%|██████████| 1000209/1000209 [00:12<00:00, 83114.30it/s]\n"
     ]
    },
    {
     "name": "stdout",
     "output_type": "stream",
     "text": [
      "Epoch 16, Loss: 80460.6148\n"
     ]
    },
    {
     "name": "stderr",
     "output_type": "stream",
     "text": [
      "Epoch 17: 100%|██████████| 1000209/1000209 [00:11<00:00, 84811.43it/s]\n"
     ]
    },
    {
     "name": "stdout",
     "output_type": "stream",
     "text": [
      "Epoch 17, Loss: 69011.1516\n"
     ]
    },
    {
     "name": "stderr",
     "output_type": "stream",
     "text": [
      "Epoch 18: 100%|██████████| 1000209/1000209 [00:11<00:00, 85505.75it/s]\n"
     ]
    },
    {
     "name": "stdout",
     "output_type": "stream",
     "text": [
      "Epoch 18, Loss: 60276.5521\n"
     ]
    },
    {
     "name": "stderr",
     "output_type": "stream",
     "text": [
      "Epoch 19: 100%|██████████| 1000209/1000209 [00:11<00:00, 85226.47it/s]\n"
     ]
    },
    {
     "name": "stdout",
     "output_type": "stream",
     "text": [
      "Epoch 19, Loss: 53565.3230\n"
     ]
    },
    {
     "name": "stderr",
     "output_type": "stream",
     "text": [
      "Epoch 20: 100%|██████████| 1000209/1000209 [00:11<00:00, 85465.48it/s]\n"
     ]
    },
    {
     "name": "stdout",
     "output_type": "stream",
     "text": [
      "Epoch 20, Loss: 48366.5335\n"
     ]
    },
    {
     "name": "stderr",
     "output_type": "stream",
     "text": [
      "Epoch 21: 100%|██████████| 1000209/1000209 [00:11<00:00, 85134.44it/s]\n"
     ]
    },
    {
     "name": "stdout",
     "output_type": "stream",
     "text": [
      "Epoch 21, Loss: 44279.9017\n"
     ]
    },
    {
     "name": "stderr",
     "output_type": "stream",
     "text": [
      "Epoch 22: 100%|██████████| 1000209/1000209 [00:11<00:00, 85147.62it/s]\n"
     ]
    },
    {
     "name": "stdout",
     "output_type": "stream",
     "text": [
      "Epoch 22, Loss: 41029.3006\n"
     ]
    },
    {
     "name": "stderr",
     "output_type": "stream",
     "text": [
      "Epoch 23: 100%|██████████| 1000209/1000209 [00:11<00:00, 85371.72it/s]\n"
     ]
    },
    {
     "name": "stdout",
     "output_type": "stream",
     "text": [
      "Epoch 23, Loss: 38427.3162\n"
     ]
    },
    {
     "name": "stderr",
     "output_type": "stream",
     "text": [
      "Epoch 24: 100%|██████████| 1000209/1000209 [00:11<00:00, 85642.47it/s]\n"
     ]
    },
    {
     "name": "stdout",
     "output_type": "stream",
     "text": [
      "Epoch 24, Loss: 36318.7238\n"
     ]
    },
    {
     "name": "stderr",
     "output_type": "stream",
     "text": [
      "Epoch 25: 100%|██████████| 1000209/1000209 [00:11<00:00, 85093.53it/s]\n"
     ]
    },
    {
     "name": "stdout",
     "output_type": "stream",
     "text": [
      "Epoch 25, Loss: 34586.5554\n"
     ]
    },
    {
     "name": "stderr",
     "output_type": "stream",
     "text": [
      "Epoch 26: 100%|██████████| 1000209/1000209 [00:11<00:00, 85081.93it/s]\n"
     ]
    },
    {
     "name": "stdout",
     "output_type": "stream",
     "text": [
      "Epoch 26, Loss: 33156.6764\n"
     ]
    },
    {
     "name": "stderr",
     "output_type": "stream",
     "text": [
      "Epoch 27: 100%|██████████| 1000209/1000209 [00:11<00:00, 85687.29it/s]\n"
     ]
    },
    {
     "name": "stdout",
     "output_type": "stream",
     "text": [
      "Epoch 27, Loss: 31958.7908\n"
     ]
    },
    {
     "name": "stderr",
     "output_type": "stream",
     "text": [
      "Epoch 28: 100%|██████████| 1000209/1000209 [00:11<00:00, 85188.60it/s]\n"
     ]
    },
    {
     "name": "stdout",
     "output_type": "stream",
     "text": [
      "Epoch 28, Loss: 30951.9632\n"
     ]
    },
    {
     "name": "stderr",
     "output_type": "stream",
     "text": [
      "Epoch 29: 100%|██████████| 1000209/1000209 [00:11<00:00, 84202.09it/s]\n"
     ]
    },
    {
     "name": "stdout",
     "output_type": "stream",
     "text": [
      "Epoch 29, Loss: 30092.3744\n"
     ]
    },
    {
     "name": "stderr",
     "output_type": "stream",
     "text": [
      "Epoch 30: 100%|██████████| 1000209/1000209 [00:11<00:00, 84792.93it/s]"
     ]
    },
    {
     "name": "stdout",
     "output_type": "stream",
     "text": [
      "Epoch 30, Loss: 29361.5688\n"
     ]
    },
    {
     "name": "stderr",
     "output_type": "stream",
     "text": [
      "\n"
     ]
    },
    {
     "data": {
      "image/png": "[encoded data removed]",
      "text/plain": [
       "<Figure size 1000x600 with 1 Axes>"
      ]
     },
     "metadata": {},
     "output_type": "display_data"
    }
   ],
   "source": [
    "model = CF(num_users, num_items, num_factors=300, lr=0.01, reg=0.001, epochs=30)\n",
    "model.train(ratings, item_id_to_index, user_id_to_index) "
   ]
  },
  {
   "cell_type": "markdown",
   "metadata": {},
   "source": [
    "# **Step 4: Ranking and Predicting Recommendations**  "
   ]
  },
  {
   "cell_type": "code",
   "execution_count": 10,
   "metadata": {},
   "outputs": [
    {
     "name": "stdout",
     "output_type": "stream",
     "text": [
      "scores:  [(np.int64(48), 5), (np.int64(527), np.float64(5.0)), (np.int64(1035), 5), (np.int64(1263), 5), (np.int64(3447), 5), (np.int64(595), np.float64(4.99)), (np.int64(1029), np.float64(4.99)), (np.int64(2355), np.float64(4.99)), (np.int64(1), np.float64(4.98)), (np.int64(1287), np.float64(4.98))]\n",
      "\n",
      "Top 10 recommendations for User 1:\n",
      "Movie ID   Movie                                              Genres                                                       Predicted Score      Weighted Score                \n",
      "----------------------------------------------------------------------------------------------------------------------------------------------------------------\n",
      "48         Pocahontas (1995)                                  Animation|Children's|Musical|Romance                         5.00                 0.82                          \n",
      "527        Schindler's List (1993)                            Drama|War                                                    5.00                 0.43                          \n",
      "1263       Deer Hunter, The (1978)                            Drama|War                                                    5.00                 0.43                          \n",
      "3447       Good Earth, The (1937)                             Drama                                                        5.00                 0.37                          \n",
      "1035       Sound of Music, The (1965)                         Musical                                                      5.00                 0.23                          \n",
      "595        Beauty and the Beast (1991)                        Animation|Children's|Musical                                 4.99                 0.77                          \n",
      "1029       Dumbo (1941)                                       Animation|Children's|Musical                                 4.99                 0.77                          \n",
      "2355       Bug's Life, A (1998)                               Animation|Children's|Comedy                                  4.99                 0.74                          \n",
      "1          Toy Story (1995)                                   Animation|Children's|Comedy                                  4.98                 0.74                          \n",
      "2804       Christmas Story, A (1983)                          Comedy|Drama                                                 4.98                 0.57                          \n"
     ]
    }
   ],
   "source": [
    "def recommend_top_n_movies(user_id, model, item_id_to_index, user_id_to_index, ratings_df, movies, top_n=10):\n",
    "    \"\"\"\n",
    "    Recommend top-n movies for user_id, print the results in a nice table format.\n",
    "\n",
    "    Args:\n",
    "        user_id (int): ID of the user to recommend.\n",
    "        model: Trained model with a recommend function.\n",
    "        item_id_to_index (dict): Mapping from item_id to index.\n",
    "        user_id_to_index (dict): Mapping from user_id to index.\n",
    "        ratings_df (DataFrame): Ratings data (user_id, item_id, rating).\n",
    "        movies (DataFrame): Movie information (item_id, title, genres).\n",
    "        top_n (int): Number of movies to recommend (default 10).\n",
    "\n",
    "    Returns:\n",
    "        DataFrame: Recommendation results.\n",
    "    \"\"\"\n",
    "\n",
    "    recommendations = model.recommend(user_id, item_id_to_index, user_id_to_index, ratings_df, movies, top_n=top_n)\n",
    "    result = []\n",
    "    for item_id, score, weight in recommendations:\n",
    "        movie_info = movies[movies['item_id'] == item_id].iloc[0]  # Lấy thông tin phim\n",
    "        movie_title = movie_info['title']\n",
    "        movie_genre = movie_info['genres']\n",
    "        result.append({\n",
    "            'Movie ID': item_id,\n",
    "            'Movie': movie_title,\n",
    "            'Genres': movie_genre,\n",
    "            'Predicted Score': round(score, 2),\n",
    "            'Weighted Score': round(weight, 2)\n",
    "        })\n",
    "\n",
    "    df_result = pd.DataFrame(result)\n",
    "    print(f\"\\nTop {len(recommendations)} recommendations for User {user_id}:\")\n",
    "    print(\"{:<10} {:<50} {:<60} {:<20} {:<30}\".format('Movie ID', 'Movie', 'Genres', 'Predicted Score', 'Weighted Score'))\n",
    "    print(\"-\" * 160)\n",
    "    for _, row in df_result.iterrows():\n",
    "        print(\"{:<10} {:<50} {:<60} {:<20.2f} {:<30.2f}\".format(\n",
    "            row['Movie ID'], row['Movie'], row['Genres'], row['Predicted Score'], row['Weighted Score']\n",
    "        ))\n",
    "\n",
    "    return df_result\n",
    "\n",
    "df_recommend = recommend_top_n_movies(\n",
    "    user_id=1,\n",
    "    model=model,\n",
    "    item_id_to_index=item_id_to_index,\n",
    "    user_id_to_index=user_id_to_index,\n",
    "    ratings_df=ratings,\n",
    "    movies=movies,\n",
    "    top_n=10 \n",
    ")"
   ]
  },
  {
   "cell_type": "code",
   "execution_count": 11,
   "metadata": {},
   "outputs": [
    {
     "name": "stdout",
     "output_type": "stream",
     "text": [
      "\n",
      "Predicted Score for Movie 2081 of User 1:\n",
      "Movie ID   Movie                                              Genres                                                       Predicted Score     \n",
      "--------------------------------------------------------------------------------------------------------------------------------------------\n",
      "2081       Little Mermaid, The (1989)                         Animation|Children's|Comedy|Musical|Romance                  4.91                \n"
     ]
    }
   ],
   "source": [
    "def predict_ratings_for_movie_of_user(user_id, movie_id, model, item_id_to_index, user_id_to_index):\n",
    "    \"\"\"\n",
    "    Predict the rating for a specific movie and user, print the results in a nice table format.\n",
    "\n",
    "    Args:\n",
    "        user_id (int): ID of the user.\n",
    "        movie_id (int): ID of the movie.\n",
    "        model: Trained model with a predict function.\n",
    "        item_content_matrix: Item content matrix.\n",
    "        item_id_to_index (dict): Mapping from item_id to index.\n",
    "        user_id_to_index (dict): Mapping from user_id to index.\n",
    "\n",
    "    Returns:\n",
    "        DataFrame: Prediction result.\n",
    "    \"\"\"\n",
    "\n",
    "    movie_title = movies[movies['item_id'] == movie_id]['title'].values[0]\n",
    "    movie_genre = movies[movies['item_id'] == movie_id]['genres'].values[0]\n",
    "\n",
    "    score_predict = model.predict(user_id, movie_id, item_id_to_index, user_id_to_index)\n",
    "    result = [{'Movie ID': movie_id ,'Movie': movie_title, 'Genres': movie_genre, 'Predicted Score': round(score_predict, 2)}]\n",
    "\n",
    "    df_result = pd.DataFrame(result)\n",
    "\n",
    "    print(f\"\\nPredicted Score for Movie {movie_id} of User {user_id}:\")\n",
    "    print(\"{:<10} {:<50} {:<60} {:<20}\".format('Movie ID', 'Movie', 'Genres', 'Predicted Score'))\n",
    "    print(\"-\" * 140)\n",
    "    for _, row in df_result.iterrows():\n",
    "        print(\"{:<10} {:<50} {:<60} {:<20.2f}\".format(\n",
    "            row['Movie ID'], row['Movie'], row['Genres'], row['Predicted Score']\n",
    "        ))\n",
    "\n",
    "    return df_result\n",
    "\n",
    "df_predict = predict_ratings_for_movie_of_user(\n",
    "    user_id=1,\n",
    "    movie_id=2081,\n",
    "    model=model,\n",
    "    item_id_to_index=item_id_to_index,\n",
    "    user_id_to_index=user_id_to_index\n",
    ")"
   ]
  },
  {
   "cell_type": "code",
   "execution_count": 12,
   "metadata": {},
   "outputs": [
    {
     "name": "stdout",
     "output_type": "stream",
     "text": [
      "Model saved to CF_SGD.pkl\n"
     ]
    }
   ],
   "source": [
    "model.save_model('CF_SGD.pkl')"
   ]
  },
  {
   "cell_type": "markdown",
   "metadata": {},
   "source": [
    "# **Step 5: Testing and Evaluating the Model**  "
   ]
  },
  {
   "cell_type": "markdown",
   "metadata": {},
   "source": [
    "# Conclusion"
   ]
  },
  {
   "cell_type": "markdown",
   "metadata": {},
   "source": [
    "- Cost before normalization: ~ 50 000 (0.05/step)\n",
    "- Cost after normalization: ~ 30 000 (0.03/step)"
   ]
  }
 ],
 "metadata": {
  "kernelspec": {
   "display_name": "Python 3",
   "language": "python",
   "name": "python3"
  },
  "language_info": {
   "codemirror_mode": {
    "name": "ipython",
    "version": 3
   },
   "file_extension": ".py",
   "mimetype": "text/x-python",
   "name": "python",
   "nbconvert_exporter": "python",
   "pygments_lexer": "ipython3",
   "version": "3.12.8"
  }
 },
 "nbformat": 4,
 "nbformat_minor": 2
}
